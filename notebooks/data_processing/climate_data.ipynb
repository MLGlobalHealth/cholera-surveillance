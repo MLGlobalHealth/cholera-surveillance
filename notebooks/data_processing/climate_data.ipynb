{
 "cells": [
  {
   "cell_type": "markdown",
   "metadata": {},
   "source": [
    "# Extract relevant climate data for the Uvira region"
   ]
  },
  {
   "cell_type": "code",
   "execution_count": 1,
   "metadata": {},
   "outputs": [],
   "source": [
    "from pathlib import Path\n",
    "import numpy as np\n",
    "import pandas as pd\n",
    "import climateserv as cs\n",
    "\n",
    "from io import StringIO\n",
    "import requests\n",
    "import json\n",
    "import pprint"
   ]
  },
  {
   "cell_type": "code",
   "execution_count": 2,
   "metadata": {},
   "outputs": [],
   "source": [
    "raw_data_dir = Path(\"../../data/raw\")"
   ]
  },
  {
   "cell_type": "markdown",
   "metadata": {},
   "source": [
    "## General Parameters"
   ]
  },
  {
   "cell_type": "code",
   "execution_count": 3,
   "metadata": {},
   "outputs": [],
   "source": [
    "x_center = 29.147\n",
    "y_center = -3.37\n",
    "dx = 0.05\n",
    "dy = 0.05\n",
    "\n",
    "GeometryCoords = [\n",
    "    [x_center - dx, y_center + dy],\n",
    "    [x_center + dx, y_center + dy],\n",
    "    [x_center + dx, y_center - dy], \n",
    "    [x_center - dx, y_center - dy],\n",
    "    [x_center - dx, y_center + dy]\n",
    "]\n",
    "operation = \"Average\"\n",
    "start_date = \"03/01/2016\"\n",
    "end_date = \"01/31/2025\"\n",
    "seasonal_ensemble = '' # Leave empty when using the new integer dataset IDs\n",
    "seasonal_variable = ''\n",
    "\n",
    "DAHITI_KEY = \"696584C92981A2B3DCA7AED9B7A5B29EB9212A5F7C16DCE3E2CE9EF141C5396D\""
   ]
  },
  {
   "cell_type": "markdown",
   "metadata": {},
   "source": [
    "## Rainfall Data\n",
    "\n",
    "Data from climateserv python api: https://github.com/SERVIR/ClimateSERVpy\n",
    "\n",
    "More information: https://chc.ucsb.edu/data/chirps3"
   ]
  },
  {
   "cell_type": "code",
   "execution_count": 4,
   "metadata": {},
   "outputs": [],
   "source": [
    "dataset_rain = 90\n",
    "outfile_rain = str(raw_data_dir / \"rainfall.csv\")"
   ]
  },
  {
   "cell_type": "code",
   "execution_count": 5,
   "metadata": {},
   "outputs": [
    {
     "name": "stdout",
     "output_type": "stream",
     "text": [
      "New Script Run, Dataset: 90\n",
      "Data request submitted. Request ID: 7fc4bbc2-f50c-4072-bd0b-a4d59268f532\n",
      "Progress: 2.8333333333333335\n",
      "Progress: 8.5\n",
      "Progress: 19.833333333333332\n",
      "Progress: 33.99999999999999\n",
      "Progress: 42.5\n",
      "Progress: 53.83333333333334\n",
      "Progress: 68.00000000000001\n",
      "Progress: 76.5\n",
      "Progress: 82.16666666666666\n",
      "Data request is complete.\n",
      "Attempting to write CSV Data to: ../../data/raw/rainfall.csv\n",
      "CSV Data Written to: ../../data/raw/rainfall.csv\n",
      "Exiting...\n"
     ]
    }
   ],
   "source": [
    "if Path(outfile_rain).exists():\n",
    "    Path(outfile_rain).unlink()\n",
    "cs.api.request_data(\n",
    "    data_set_type = dataset_rain, \n",
    "    operation_type = operation, \n",
    "    earliest_date = start_date,\n",
    "    latest_date = end_date,\n",
    "    geometry_coords = GeometryCoords,\n",
    "    seasonal_ensemble = seasonal_ensemble,\n",
    "    seasonal_variable = seasonal_variable,\n",
    "    outfile = outfile_rain\n",
    ")"
   ]
  },
  {
   "cell_type": "markdown",
   "metadata": {},
   "source": [
    "## Surface Soil Moisture\n",
    "\n",
    "Data from climateserv python api: https://github.com/SERVIR/ClimateSERVpy\n",
    "\n",
    "More information from: https://earth.gsfc.nasa.gov/hydro/data/nasa-usda-global-soil-moisture-data\n"
   ]
  },
  {
   "cell_type": "code",
   "execution_count": 8,
   "metadata": {},
   "outputs": [],
   "source": [
    "dataset_ssm = 38\n",
    "outfile_ssm = str(raw_data_dir / \"surface_soil_moisture.csv\")"
   ]
  },
  {
   "cell_type": "code",
   "execution_count": 9,
   "metadata": {},
   "outputs": [
    {
     "name": "stdout",
     "output_type": "stream",
     "text": [
      "New Script Run, Dataset: 38\n",
      "Data request submitted. Request ID: 10f25d55-532c-47dd-b89e-faa2123995e5\n",
      "Progress: 4.261904761904762\n",
      "Progress: 34.095238095238095\n",
      "Progress: 63.928571428571416\n",
      "Progress: 89.49999999999997\n",
      "Data request is complete.\n",
      "Attempting to write CSV Data to: ../../data/raw/surface_soil_moisture.csv\n",
      "CSV Data Written to: ../../data/raw/surface_soil_moisture.csv\n",
      "Exiting...\n"
     ]
    }
   ],
   "source": [
    "if Path(outfile_ssm).exists():\n",
    "    Path(outfile_ssm).unlink()\n",
    "cs.api.request_data(\n",
    "    data_set_type = dataset_ssm, \n",
    "    operation_type = operation, \n",
    "    earliest_date = start_date,\n",
    "    latest_date = end_date,\n",
    "    geometry_coords = GeometryCoords,\n",
    "    seasonal_ensemble = seasonal_ensemble,\n",
    "    seasonal_variable = seasonal_variable,\n",
    "    outfile = outfile_ssm\n",
    ")"
   ]
  },
  {
   "cell_type": "markdown",
   "metadata": {},
   "source": [
    "## Sub-Surface Soil Moisture\n",
    "\n",
    "Data from climateserv python api: https://github.com/SERVIR/ClimateSERVpy\n",
    "\n",
    "More information from: https://earth.gsfc.nasa.gov/hydro/data/nasa-usda-global-soil-moisture-data"
   ]
  },
  {
   "cell_type": "code",
   "execution_count": 10,
   "metadata": {},
   "outputs": [],
   "source": [
    "dataset_subssm = 40\n",
    "outfile_subssm = str(raw_data_dir / \"sub_surface_soil_moisture.csv\")"
   ]
  },
  {
   "cell_type": "code",
   "execution_count": 11,
   "metadata": {},
   "outputs": [
    {
     "name": "stdout",
     "output_type": "stream",
     "text": [
      "New Script Run, Dataset: 40\n",
      "Data request submitted. Request ID: 5d0935a4-bcd3-4884-a64b-a877d9bc1372\n",
      "Progress: 4.261904761904762\n",
      "Progress: 34.095238095238095\n",
      "Progress: 59.66666666666665\n",
      "Progress: 89.49999999999997\n",
      "Data request is complete.\n",
      "Attempting to write CSV Data to: ../../data/raw/sub_surface_soil_moisture.csv\n",
      "CSV Data Written to: ../../data/raw/sub_surface_soil_moisture.csv\n",
      "Exiting...\n"
     ]
    }
   ],
   "source": [
    "if Path(outfile_subssm).exists():\n",
    "    Path(outfile_subssm).unlink()\n",
    "cs.api.request_data(\n",
    "    data_set_type = dataset_subssm, \n",
    "    operation_type = operation, \n",
    "    earliest_date = start_date,\n",
    "    latest_date = end_date,\n",
    "    geometry_coords = GeometryCoords,\n",
    "    seasonal_ensemble = seasonal_ensemble,\n",
    "    seasonal_variable = seasonal_variable,\n",
    "    outfile = outfile_subssm\n",
    ")"
   ]
  },
  {
   "cell_type": "markdown",
   "metadata": {},
   "source": [
    "## Evaporative Stress Index\n",
    "\n",
    "info at: https://gis1.servirglobal.net/geonetwork/srv/eng/catalog.search#/metadata/97082c3e-a136-4689-bcdf-517a4bb6907f"
   ]
  },
  {
   "cell_type": "code",
   "execution_count": 12,
   "metadata": {},
   "outputs": [],
   "source": [
    "dataset_esi = 29\n",
    "outfile_esi = str(raw_data_dir / \"evaporative_stress_index.csv\")"
   ]
  },
  {
   "cell_type": "code",
   "execution_count": 13,
   "metadata": {},
   "outputs": [
    {
     "name": "stdout",
     "output_type": "stream",
     "text": [
      "New Script Run, Dataset: 29\n",
      "Data request submitted. Request ID: e11367e8-9ea2-4848-a842-43fc9ea445c3\n",
      "Progress: 2.8333333333333335\n",
      "Progress: 22.666666666666664\n",
      "Progress: 42.5\n",
      "Progress: 56.66666666666668\n",
      "Progress: 76.5\n",
      "Progress: 84.99999999999999\n",
      "Data request is complete.\n",
      "Attempting to write CSV Data to: ../../data/raw/evaporative_stress_index.csv\n",
      "CSV Data Written to: ../../data/raw/evaporative_stress_index.csv\n",
      "Exiting...\n"
     ]
    }
   ],
   "source": [
    "if Path(outfile_esi).exists():\n",
    "    Path(outfile_esi).unlink()\n",
    "cs.api.request_data(\n",
    "    data_set_type = dataset_esi, \n",
    "    operation_type = operation, \n",
    "    earliest_date = start_date,\n",
    "    latest_date = end_date,\n",
    "    geometry_coords = GeometryCoords,\n",
    "    seasonal_ensemble = seasonal_ensemble,\n",
    "    seasonal_variable = seasonal_variable,\n",
    "    outfile = outfile_esi\n",
    ")"
   ]
  },
  {
   "cell_type": "markdown",
   "metadata": {},
   "source": [
    "## Water Level Hypsometry"
   ]
  },
  {
   "cell_type": "code",
   "execution_count": 14,
   "metadata": {},
   "outputs": [],
   "source": [
    "outfile_lake = raw_data_dir / \"tanganyika_water_level.csv\""
   ]
  },
  {
   "cell_type": "code",
   "execution_count": 15,
   "metadata": {},
   "outputs": [
    {
     "name": "stdout",
     "output_type": "stream",
     "text": [
      "done!\n"
     ]
    }
   ],
   "source": [
    "if outfile_lake.exists():\n",
    "    outfile_lake.unlink()\n",
    "\n",
    "url = \"https://dahiti.dgfi.tum.de/api/v2/download-water-level/\"\n",
    "\n",
    "args = {}\n",
    "args['api_key'] = DAHITI_KEY\n",
    "args['dahiti_id'] = 25\n",
    "args['format'] = 'csv'\n",
    "\n",
    "response = requests.get(url, params=args)\n",
    "\n",
    "if response.status_code == 200:\n",
    "\tdata_csv = response.text\n",
    "\t(\n",
    "\t\tpd.read_csv(\n",
    "\t\t\tStringIO(data_csv),\n",
    "\t\t\tparse_dates=['datetime'],\n",
    "\t\t\tsep=\";\"\n",
    "\t\t)\n",
    "\t\t.rename(columns={'datetime': 'date'})\n",
    "\t\t.loc[lambda x: (\n",
    "\t\t\t(x[\"date\"] >= pd.Timestamp(start_date))\n",
    "\t\t\t& (x[\"date\"] <= pd.Timestamp(end_date))\n",
    "\t\t)]\n",
    "\t\t[['date', 'water_level']]\n",
    "\t\t.to_csv(outfile_lake, index=False)\n",
    "\t)\n",
    "\tprint(\"done!\")\t\t\t\n",
    "else:\n",
    "\tprint (response.text)\n",
    "\tprint (response.status_code)"
   ]
  }
 ],
 "metadata": {
  "kernelspec": {
   "display_name": "forecasting",
   "language": "python",
   "name": "python3"
  },
  "language_info": {
   "codemirror_mode": {
    "name": "ipython",
    "version": 3
   },
   "file_extension": ".py",
   "mimetype": "text/x-python",
   "name": "python",
   "nbconvert_exporter": "python",
   "pygments_lexer": "ipython3",
   "version": "3.12.8"
  }
 },
 "nbformat": 4,
 "nbformat_minor": 2
}
